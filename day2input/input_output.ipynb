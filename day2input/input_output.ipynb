{
 "cells": [
  {
   "cell_type": "markdown",
   "id": "edcd0724",
   "metadata": {},
   "source": [
    "input allow your program to accept data from the user via the keyboard"
   ]
  },
  {
   "cell_type": "code",
   "execution_count": null,
   "id": "d82da9c6",
   "metadata": {},
   "outputs": [
    {
     "name": "stdout",
     "output_type": "stream",
     "text": [
      " The result is  47\n",
      "The result is 47\n"
     ]
    }
   ],
   "source": [
    "num1=input(\"Enter your first number\")#the final anser it did not add mathematically but just concatenate it . This is because it was not converted\n",
    "num2=input(\"Enter your second number\")\n",
    "result=num1+num2\n",
    "print(\" The result is \" ,num1+num2)\n",
    "print(f\"The result is {result}\")#result is the vriable and with the f , it helps us to insert variable  in a striing"
   ]
  },
  {
   "cell_type": "code",
   "execution_count": null,
   "id": "3e1f2164",
   "metadata": {},
   "outputs": [
    {
     "name": "stdout",
     "output_type": "stream",
     "text": [
      " The result is  10.0\n",
      "The result is 10.0\n"
     ]
    }
   ],
   "source": [
    "num1=float(input(\"Enter your first number\"))#the final anser it did not add mathematically but just concatenate it . This is because it was not converted\n",
    "num2=float(input(\"Enter your second number\"))\n",
    "result=num1+num2\n",
    "print(\" The result is \" ,num1+num2)\n",
    "print(f\"The result is {result}\")#result is the vriable and with the f , it helps us to insert variable  in a striing"
   ]
  },
  {
   "cell_type": "code",
   "execution_count": 22,
   "id": "1a0dd1a4",
   "metadata": {},
   "outputs": [
    {
     "name": "stdout",
     "output_type": "stream",
     "text": [
      "the number is 3.0\n"
     ]
    }
   ],
   "source": [
    "##this method of coverting is better because u might once along the line need the num1 and num2 which is  not converted\n",
    "num1=input(\"enter the first number\")\n",
    "num2=input(\"enter the second number\")\n",
    "results=float(num1)+float(num2)\n",
    "print(f'the number is {results}')"
   ]
  },
  {
   "cell_type": "code",
   "execution_count": null,
   "id": "367e1fbb",
   "metadata": {},
   "outputs": [],
   "source": [
    "#conditional statement is under control flow and it allows your program tomake decisions based on certain conditions \n",
    "#in python u can use \"if\" to check a condition ,\n",
    "# elif to check another condition if the first condition is false\n",
    "# else to check if both if and elif are false  or when all previous conditions are falsed\n",
    "# if (condition):\n",
    "#    block of code\n",
    "# elif (condition):\n",
    "#     block of code\n",
    "# else:\n",
    "#    block of code\n"
   ]
  },
  {
   "cell_type": "markdown",
   "id": "f00eba7f",
   "metadata": {},
   "source": []
  },
  {
   "cell_type": "markdown",
   "id": "9de0f023",
   "metadata": {},
   "source": [
    "indentation which are the spacing and tabing are really important"
   ]
  },
  {
   "cell_type": "code",
   "execution_count": null,
   "id": "3ad419d3",
   "metadata": {},
   "outputs": [
    {
     "name": "stdout",
     "output_type": "stream",
     "text": [
      "hey\n"
     ]
    }
   ],
   "source": [
    "age = 18\n",
    "if age>=18:\n",
    "    print(\"hey\")\n",
    "else:\n",
    "    print(\"hello\")"
   ]
  },
  {
   "cell_type": "code",
   "execution_count": null,
   "id": "f3b82397",
   "metadata": {},
   "outputs": [
    {
     "ename": "TypeError",
     "evalue": "'>=' not supported between instances of 'str' and 'int'",
     "output_type": "error",
     "traceback": [
      "\u001b[1;31m---------------------------------------------------------------------------\u001b[0m",
      "\u001b[1;31mTypeError\u001b[0m                                 Traceback (most recent call last)",
      "Cell \u001b[1;32mIn[24], line 3\u001b[0m\n\u001b[0;32m      1\u001b[0m age \u001b[38;5;241m=\u001b[39m\u001b[38;5;28minput\u001b[39m(\u001b[38;5;124m\"\u001b[39m\u001b[38;5;124menter the age\u001b[39m\u001b[38;5;124m\"\u001b[39m)\n\u001b[0;32m      2\u001b[0m isActive\u001b[38;5;241m=\u001b[39m\u001b[38;5;28;01mTrue\u001b[39;00m\n\u001b[1;32m----> 3\u001b[0m \u001b[38;5;28;01mif\u001b[39;00m age\u001b[38;5;241m>\u001b[39m\u001b[38;5;241m=\u001b[39m\u001b[38;5;241m18\u001b[39m \u001b[38;5;129;01mand\u001b[39;00m isActive\u001b[38;5;241m==\u001b[39m\u001b[38;5;28;01mTrue\u001b[39;00m:\n\u001b[0;32m      4\u001b[0m     \u001b[38;5;28mprint\u001b[39m(\u001b[38;5;124m\"\u001b[39m\u001b[38;5;124mhey\u001b[39m\u001b[38;5;124m\"\u001b[39m)\n\u001b[0;32m      5\u001b[0m \u001b[38;5;28;01melse\u001b[39;00m:\n",
      "\u001b[1;31mTypeError\u001b[0m: '>=' not supported between instances of 'str' and 'int'"
     ]
    }
   ],
   "source": [
    "age =input(\"enter the age\") ### this give error because age 18 entered here is a string(because input when not converted is a string by defalut) but the age at the if condition is an init\n",
    "isActive=True\n",
    "if age>=18 and isActive==True:\n",
    "    print(\"hey\")\n",
    "else:\n",
    "    print(\"hello\")"
   ]
  },
  {
   "cell_type": "markdown",
   "id": "cee14cf3",
   "metadata": {},
   "source": [
    "Nested if condition. it can be nested under the if or under the else or even under the elif"
   ]
  },
  {
   "cell_type": "code",
   "execution_count": null,
   "id": "1693388e",
   "metadata": {},
   "outputs": [
    {
     "name": "stdout",
     "output_type": "stream",
     "text": [
      "udefined\n"
     ]
    }
   ],
   "source": [
    "#simple calculator f statement\n",
    "num1 =float(input(\"enter the first number\"))\n",
    "num2=float(input(\"enter the second number\"))\n",
    "operator=input(\"enter the operator\")\n",
    "\n",
    "if operator==\"+\":\n",
    "    print(num1+num2)\n",
    "elif operator==\"-\":\n",
    "    print(num1-num2)\n",
    "elif operator==\"*\":\n",
    "    print(num1*num2)\n",
    "elif operator == \"/\":\n",
    "    if num2==0:\n",
    "        print(\"udefined\")\n",
    "    else:\n",
    "        print(num1 / num2)\n",
    "else:\n",
    "    print (\"invalid operator\")\n"
   ]
  },
  {
   "cell_type": "code",
   "execution_count": 24,
   "id": "03eea76e",
   "metadata": {},
   "outputs": [
    {
     "name": "stdout",
     "output_type": "stream",
     "text": [
      "undefined\n"
     ]
    }
   ],
   "source": [
    "#simple calculator this time match will be used\n",
    "num1 =float(input(\"enter the first number\"))\n",
    "num2=float(input(\"enter the second number\"))\n",
    "operator=input(\"enter the operator\")\n",
    "\n",
    "match operator:\n",
    "    case \"+\":\n",
    "        print(num1 + num2) \n",
    "    case \"-\":\n",
    "        print(num1-num2)\n",
    "    case \"*\":\n",
    "        print(num1*num2)\n",
    "    case \"/\":\n",
    "        if num2==0:\n",
    "            print(\"undefined\")\n",
    "        else:\n",
    "            print(num1/num2)\n",
    "    case _:\n",
    "        print(\"invalid\")"
   ]
  },
  {
   "cell_type": "markdown",
   "id": "a02aa3e8",
   "metadata": {},
   "source": [
    "OR"
   ]
  },
  {
   "cell_type": "code",
   "execution_count": null,
   "id": "0e1a0af3",
   "metadata": {},
   "outputs": [],
   "source": [
    "#simple calculator this time match will be used\n",
    "num1 =float(input(\"enter the first number\"))\n",
    "num2=float(input(\"enter the second number\"))\n",
    "operator=input(\"enter the operator\")\n",
    "\n",
    "match operator:\n",
    "    case \"+\":\n",
    "        print(num1 + num2) \n",
    "    case \"-\":\n",
    "        print(num1-num2)\n",
    "    case \"*\":\n",
    "        print(num1*num2)\n",
    "    case \"/\":\n",
    "        match num2:\n",
    "            case 0:\n",
    "                print(\"undefined\")\n",
    "            case _:\n",
    "                print(num1/num2)\n",
    "    case _:\n",
    "        print(\"invalid\")"
   ]
  },
  {
   "cell_type": "markdown",
   "id": "c3d1dda3",
   "metadata": {},
   "source": [
    "Wroked example\n"
   ]
  },
  {
   "cell_type": "code",
   "execution_count": 33,
   "id": "76a4f00c",
   "metadata": {},
   "outputs": [
    {
     "name": "stdout",
     "output_type": "stream",
     "text": [
      "Yes is an even number \n"
     ]
    }
   ],
   "source": [
    "#write a program which accepts an integer and print whter the number is even or odd\n",
    "num5=int(input(\"Enter the number \"))\n",
    "\n",
    "if num5%2==0:\n",
    "    print(\"Yes is an even number \")\n",
    "else:     \n",
    "    print(\"is an odd number\")\n"
   ]
  },
  {
   "cell_type": "markdown",
   "id": "af0b1f59",
   "metadata": {},
   "source": [
    "Ternary allows u to write simple if logic on a simple line"
   ]
  },
  {
   "cell_type": "code",
   "execution_count": 3,
   "id": "32b0ab9d",
   "metadata": {},
   "outputs": [
    {
     "name": "stdout",
     "output_type": "stream",
     "text": [
      "5\n"
     ]
    }
   ],
   "source": [
    "x= 77\n",
    "y=5\n",
    "max_value= x if x< y else y\n",
    "print(max_value)"
   ]
  },
  {
   "cell_type": "markdown",
   "id": "ef242067",
   "metadata": {},
   "source": [
    "match (works as the ifs)"
   ]
  },
  {
   "cell_type": "code",
   "execution_count": 10,
   "id": "a4dcae53",
   "metadata": {},
   "outputs": [
    {
     "name": "stdout",
     "output_type": "stream",
     "text": [
      "it successful\n"
     ]
    }
   ],
   "source": [
    "http_status=\"success\"\n",
    "match http_status:\n",
    "    case \"success\":\n",
    "        print(\"it successful\")\n",
    "    case \"failure\":\n",
    "        print(\"it unsucessful\")\n",
    "    case _:\n",
    "        print(\"unkown error\")\n"
   ]
  }
 ],
 "metadata": {
  "kernelspec": {
   "display_name": "base",
   "language": "python",
   "name": "python3"
  },
  "language_info": {
   "codemirror_mode": {
    "name": "ipython",
    "version": 3
   },
   "file_extension": ".py",
   "mimetype": "text/x-python",
   "name": "python",
   "nbconvert_exporter": "python",
   "pygments_lexer": "ipython3",
   "version": "3.12.7"
  }
 },
 "nbformat": 4,
 "nbformat_minor": 5
}
