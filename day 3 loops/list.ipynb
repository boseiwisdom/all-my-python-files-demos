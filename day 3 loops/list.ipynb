{
 "cells": [
  {
   "cell_type": "markdown",
   "id": "c7d332db",
   "metadata": {},
   "source": [
    "list are unorder mutable collection of data that allow duplicate values\n"
   ]
  },
  {
   "cell_type": "code",
   "execution_count": 3,
   "id": "95aea59f",
   "metadata": {},
   "outputs": [],
   "source": [
    "fruit=[\"apple\",\"banana\",\"cherry\"]\n",
    "numbers=[1,2,3,4]\n",
    "mixed=[\"hello\",42,True]\n"
   ]
  },
  {
   "cell_type": "code",
   "execution_count": 13,
   "id": "92bb6883",
   "metadata": {},
   "outputs": [
    {
     "name": "stdout",
     "output_type": "stream",
     "text": [
      "[1, 2, 3, 4, 'apple', 'banana', 'cherry', 'apple', 'banana', 'cherry', 'apple', 'banana', 'cherry', 'apple', 'banana', 'cherry', 'apple', 'banana', 'cherry', 'apple', 'banana', 'cherry', 'apple', 'banana', 'cherry']\n"
     ]
    }
   ],
   "source": [
    "for i in fruit:\n",
    "   numbers.append(i)\n",
    "print(numbers)"
   ]
  },
  {
   "cell_type": "code",
   "execution_count": 5,
   "id": "5b969c70",
   "metadata": {},
   "outputs": [
    {
     "name": "stdout",
     "output_type": "stream",
     "text": [
      "['cherry', 'banana', 'apple', 1, 2, 3, 4, 'apple', 'banana', 'cherry']\n"
     ]
    }
   ],
   "source": [
    "coo=0\n",
    "for i in fruit:\n",
    "    numbers.insert(coo,i)\n",
    "    coo+=0\n",
    "print(numbers)"
   ]
  },
  {
   "cell_type": "code",
   "execution_count": 6,
   "id": "f1b76b47",
   "metadata": {},
   "outputs": [
    {
     "name": "stdout",
     "output_type": "stream",
     "text": [
      "apple\n",
      "cherry\n"
     ]
    }
   ],
   "source": [
    "##accessing list\n",
    "print(fruit[0])\n",
    "print(fruit[2])\n"
   ]
  },
  {
   "cell_type": "code",
   "execution_count": 18,
   "id": "e3178002",
   "metadata": {},
   "outputs": [
    {
     "name": "stdout",
     "output_type": "stream",
     "text": [
      "['apple', 'kofi', 'cherry', 2]\n"
     ]
    }
   ],
   "source": [
    "###adding\n",
    "fruit.append(2)\n",
    "print(fruit)"
   ]
  },
  {
   "cell_type": "code",
   "execution_count": 19,
   "id": "fd6a3ea7",
   "metadata": {},
   "outputs": [
    {
     "name": "stdout",
     "output_type": "stream",
     "text": [
      "['apple', 'kofi', 'kofi', 'cherry', 2]\n",
      "['apple', 'kofi', 'kofi', 'cherry', 2]\n"
     ]
    }
   ],
   "source": [
    "###adding at a particular index\n",
    "fruit.insert(2,\"kofi\")\n",
    "print(fruit)\n",
    "print(fruit)\n",
    "\n"
   ]
  },
  {
   "cell_type": "code",
   "execution_count": 7,
   "id": "deb838ee",
   "metadata": {},
   "outputs": [
    {
     "name": "stdout",
     "output_type": "stream",
     "text": [
      "['banana']\n"
     ]
    }
   ],
   "source": [
    "## for r#emoving last item\n",
    "fruit.pop()\n",
    "print(fruit)"
   ]
  },
  {
   "cell_type": "code",
   "execution_count": 24,
   "id": "6e43cea2",
   "metadata": {},
   "outputs": [
    {
     "name": "stdout",
     "output_type": "stream",
     "text": [
      "['kofi', 'kofi', 'cherry']\n"
     ]
    }
   ],
   "source": [
    "###usind del to remove though not prefered\n",
    "#del fruit[0]\n",
    "print(fruit)"
   ]
  },
  {
   "cell_type": "code",
   "execution_count": 25,
   "id": "06be253c",
   "metadata": {},
   "outputs": [
    {
     "name": "stdout",
     "output_type": "stream",
     "text": [
      "[]\n"
     ]
    }
   ],
   "source": [
    "fruit.clear()\n",
    "print(fruit)"
   ]
  },
  {
   "cell_type": "code",
   "execution_count": 27,
   "id": "3cdd2db1",
   "metadata": {},
   "outputs": [
    {
     "name": "stdout",
     "output_type": "stream",
     "text": [
      "[1, 2, 3, 4]\n"
     ]
    }
   ],
   "source": [
    "###checking index location\n",
    "numbers.index(1)\n",
    "print(numbers)"
   ]
  },
  {
   "cell_type": "code",
   "execution_count": null,
   "id": "fb592d38",
   "metadata": {},
   "outputs": [
    {
     "name": "stdout",
     "output_type": "stream",
     "text": [
      "apple\n",
      "banana\n",
      "cherry\n"
     ]
    }
   ],
   "source": [
    "for i in fruit: ###  if nothing is coming is because u have once used fruit.clear\n",
    "    print(i)"
   ]
  },
  {
   "cell_type": "code",
   "execution_count": 7,
   "id": "3874ccef",
   "metadata": {},
   "outputs": [
    {
     "name": "stdout",
     "output_type": "stream",
     "text": [
      "apple\n",
      "banana\n",
      "cherry\n"
     ]
    }
   ],
   "source": [
    "###using while looop\n",
    "\n",
    "count=0\n",
    "while count<len(fruit):\n",
    "    print(fruit[count])\n",
    "    count+=1"
   ]
  },
  {
   "cell_type": "code",
   "execution_count": 5,
   "id": "071c1d73",
   "metadata": {},
   "outputs": [
    {
     "name": "stdout",
     "output_type": "stream",
     "text": [
      "3\n"
     ]
    }
   ],
   "source": [
    "print(len(fruit))"
   ]
  },
  {
   "cell_type": "code",
   "execution_count": 2,
   "id": "134ab7af",
   "metadata": {},
   "outputs": [
    {
     "name": "stdout",
     "output_type": "stream",
     "text": [
      "[2, 4, 6, 8, 10]\n"
     ]
    }
   ],
   "source": [
    "##output evening numbers\n",
    "nums=[1,2,3,4,5,6,7,8,9,10]\n",
    "aa=[]\n",
    "for i in nums:\n",
    "    if i%2==0:\n",
    "        aa.append(i)\n",
    "print(aa)    \n",
    "                \n"
   ]
  },
  {
   "cell_type": "code",
   "execution_count": 4,
   "id": "fb7c0467",
   "metadata": {},
   "outputs": [
    {
     "name": "stdout",
     "output_type": "stream",
     "text": [
      "30\n"
     ]
    }
   ],
   "source": [
    "\n",
    "sum=0\n",
    "for i in aa:\n",
    "    sum+=i\n",
    "print(sum)\n",
    "   "
   ]
  }
 ],
 "metadata": {
  "kernelspec": {
   "display_name": "base",
   "language": "python",
   "name": "python3"
  },
  "language_info": {
   "codemirror_mode": {
    "name": "ipython",
    "version": 3
   },
   "file_extension": ".py",
   "mimetype": "text/x-python",
   "name": "python",
   "nbconvert_exporter": "python",
   "pygments_lexer": "ipython3",
   "version": "3.12.7"
  }
 },
 "nbformat": 4,
 "nbformat_minor": 5
}
