{
 "cells": [
  {
   "cell_type": "markdown",
   "id": "74bd7175",
   "metadata": {},
   "source": [
    "loop are used for reapeating tasks"
   ]
  },
  {
   "cell_type": "markdown",
   "id": "e8a99f93",
   "metadata": {},
   "source": [
    "for loop is used when you know the number of time u want to repeat"
   ]
  },
  {
   "cell_type": "code",
   "execution_count": null,
   "id": "6572bad0",
   "metadata": {},
   "outputs": [
    {
     "name": "stdout",
     "output_type": "stream",
     "text": [
      "how are you\n",
      "how are you\n",
      "how are you\n",
      "how are you\n",
      "how are you\n",
      "how are you\n",
      "how are you\n",
      "how are you\n",
      "how are you\n",
      "how are you\n"
     ]
    }
   ],
   "source": [
    "for i in range(10):\n",
    "    print(i)#this print the index\n",
    "    #or \n",
    "    print(\"how are u doning\")#this print how are you as is what i want to repeat"
   ]
  },
  {
   "cell_type": "markdown",
   "id": "461c8ada",
   "metadata": {},
   "source": [
    "whiles loop run as far as condition is ture"
   ]
  },
  {
   "cell_type": "code",
   "execution_count": 6,
   "id": "e06c97b9",
   "metadata": {},
   "outputs": [
    {
     "name": "stdout",
     "output_type": "stream",
     "text": [
      "1:hey\n",
      "2:hey\n",
      "3:hey\n",
      "4:hey\n",
      "5:hey\n",
      "6:hey\n",
      "7:hey\n",
      "8:hey\n",
      "9:hey\n",
      "10:hey\n"
     ]
    }
   ],
   "source": [
    "count =1\n",
    "while count<=10:\n",
    "    print(f\"{count}:hey\")\n",
    "    count+=1"
   ]
  },
  {
   "cell_type": "code",
   "execution_count": 1,
   "id": "834804c6",
   "metadata": {},
   "outputs": [
    {
     "name": "stdout",
     "output_type": "stream",
     "text": [
      "i\n",
      "o\n"
     ]
    }
   ],
   "source": [
    "##write a program to check for the vowel in word input by a user\n",
    "wor=input(\"enter the number\").lower()\n",
    "for i in  (\"a\",\"i\",\"e\",\"o\",\"u\"):\n",
    "    if i in wor:\n",
    "        print(i)\n",
    "        "
   ]
  },
  {
   "cell_type": "code",
   "execution_count": 1,
   "id": "5599bc92",
   "metadata": {},
   "outputs": [
    {
     "name": "stdout",
     "output_type": "stream",
     "text": [
      "Passwd correct\n"
     ]
    }
   ],
   "source": [
    "passwd=\" \"\n",
    "while passwd!=\"SecreT\":\n",
    "    passwd=input(\"enter the passwd\")\n",
    "\n",
    "print(\"Passwd correct\")\n"
   ]
  }
 ],
 "metadata": {
  "kernelspec": {
   "display_name": "base",
   "language": "python",
   "name": "python3"
  },
  "language_info": {
   "codemirror_mode": {
    "name": "ipython",
    "version": 3
   },
   "file_extension": ".py",
   "mimetype": "text/x-python",
   "name": "python",
   "nbconvert_exporter": "python",
   "pygments_lexer": "ipython3",
   "version": "3.12.7"
  }
 },
 "nbformat": 4,
 "nbformat_minor": 5
}
