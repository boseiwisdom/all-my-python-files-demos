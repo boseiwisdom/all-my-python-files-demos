{
 "cells": [
  {
   "cell_type": "markdown",
   "id": "dfac3edb",
   "metadata": {},
   "source": [
    "Beginner level: loop fundamentals\n"
   ]
  },
  {
   "cell_type": "markdown",
   "id": "4caf58f1",
   "metadata": {},
   "source": [
    "Print numbers from 1 to 10 using a for loop\n"
   ]
  },
  {
   "cell_type": "code",
   "execution_count": 2,
   "id": "314a0c87",
   "metadata": {},
   "outputs": [
    {
     "name": "stdout",
     "output_type": "stream",
     "text": [
      "1\n",
      "2\n",
      "3\n",
      "4\n",
      "5\n",
      "6\n",
      "7\n",
      "8\n",
      "9\n",
      "10\n"
     ]
    }
   ],
   "source": [
    "for i in range(1,11):\n",
    "    print (i)"
   ]
  },
  {
   "cell_type": "markdown",
   "id": "92022f3e",
   "metadata": {},
   "source": [
    "- Use a while loop to count down from 10 to 1.\n"
   ]
  },
  {
   "cell_type": "code",
   "execution_count": 15,
   "id": "c6d28996",
   "metadata": {},
   "outputs": [
    {
     "name": "stdout",
     "output_type": "stream",
     "text": [
      "10\n",
      "9\n",
      "8\n",
      "7\n",
      "6\n",
      "5\n",
      "4\n",
      "3\n",
      "2\n",
      "1\n"
     ]
    }
   ],
   "source": [
    "count=10\n",
    "while count>0:\n",
    "    print(count)\n",
    "    count-=1\n"
   ]
  },
  {
   "cell_type": "markdown",
   "id": "7b59d0a5",
   "metadata": {},
   "source": [
    "Loop through a list of fruits and print each one"
   ]
  },
  {
   "cell_type": "code",
   "execution_count": null,
   "id": "b7d0cd55",
   "metadata": {},
   "outputs": [
    {
     "name": "stdout",
     "output_type": "stream",
     "text": [
      "mango\n",
      "apple\n",
      "banana\n"
     ]
    }
   ],
   "source": [
    "lis=[\"mango\",\"apple\",\"banana\"]\n",
    "for i in lis:\n",
    "    print(i)\n",
    "    "
   ]
  },
  {
   "cell_type": "code",
   "execution_count": 35,
   "id": "895f50b7",
   "metadata": {},
   "outputs": [
    {
     "name": "stdout",
     "output_type": "stream",
     "text": [
      "mango\n",
      "apple\n",
      "banana\n"
     ]
    }
   ],
   "source": [
    "count=0\n",
    "while count<len(lis):\n",
    "    print(lis[count])\n",
    "    \n",
    "\n",
    "    count+=1"
   ]
  },
  {
   "cell_type": "markdown",
   "id": "720c22dc",
   "metadata": {},
   "source": [
    "Use a loop to sum all even numbers from 1 to 100.\n"
   ]
  },
  {
   "cell_type": "code",
   "execution_count": 17,
   "id": "c7b90bb6",
   "metadata": {},
   "outputs": [
    {
     "name": "stdout",
     "output_type": "stream",
     "text": [
      "2550\n"
     ]
    }
   ],
   "source": [
    "v=0\n",
    "for i in range(2,102,2):\n",
    "    v+=i\n",
    "print(v)\n",
    "\n",
    "\n"
   ]
  },
  {
   "cell_type": "code",
   "execution_count": 20,
   "id": "ef7a058f",
   "metadata": {},
   "outputs": [
    {
     "name": "stdout",
     "output_type": "stream",
     "text": [
      "100\n"
     ]
    }
   ],
   "source": [
    "count=0\n",
    "while count<100:\n",
    "   count+=i\n",
    "print(count)"
   ]
  },
  {
   "cell_type": "code",
   "execution_count": 21,
   "id": "28e8757d",
   "metadata": {},
   "outputs": [
    {
     "name": "stdout",
     "output_type": "stream",
     "text": [
      "W\n",
      "a\n",
      "s\n",
      "s\n",
      "c\n",
      "e\n"
     ]
    }
   ],
   "source": [
    "v='Wassce'\n",
    "for i in v:\n",
    "    print(i)"
   ]
  },
  {
   "cell_type": "markdown",
   "id": "e88dfb7d",
   "metadata": {},
   "source": [
    "Use a loop to print all multiples of 5 from 5 to 100."
   ]
  },
  {
   "cell_type": "code",
   "execution_count": 2,
   "id": "d33fa95d",
   "metadata": {},
   "outputs": [
    {
     "name": "stdout",
     "output_type": "stream",
     "text": [
      "5\n",
      "10\n",
      "15\n",
      "20\n",
      "25\n",
      "30\n",
      "35\n",
      "40\n",
      "45\n",
      "50\n",
      "55\n",
      "60\n",
      "65\n",
      "70\n",
      "75\n",
      "80\n",
      "85\n",
      "90\n",
      "95\n",
      "100\n"
     ]
    }
   ],
   "source": [
    "for i in range(5,105,5):\n",
    "    print(i)"
   ]
  },
  {
   "cell_type": "markdown",
   "id": "283073a9",
   "metadata": {},
   "source": [
    "Loop through numbers 1–50, printing “Fizz” if divisible by 3, “Buzz” if divisible by 5, and “FizzBuzz” if both."
   ]
  },
  {
   "cell_type": "code",
   "execution_count": 2,
   "id": "e5051a8d",
   "metadata": {},
   "outputs": [
    {
     "name": "stdout",
     "output_type": "stream",
     "text": [
      "3\"Fizz\"\n",
      "5\"buzz\"\n",
      "6\"Fizz\"\n",
      "9\"Fizz\"\n",
      "10\"buzz\"\n",
      "12\"Fizz\"\n",
      "15'FizzBuzz'\n",
      "18\"Fizz\"\n",
      "20\"buzz\"\n",
      "21\"Fizz\"\n",
      "24\"Fizz\"\n",
      "25\"buzz\"\n",
      "27\"Fizz\"\n",
      "30'FizzBuzz'\n",
      "33\"Fizz\"\n",
      "35\"buzz\"\n",
      "36\"Fizz\"\n",
      "39\"Fizz\"\n",
      "40\"buzz\"\n",
      "42\"Fizz\"\n",
      "45'FizzBuzz'\n",
      "48\"Fizz\"\n"
     ]
    }
   ],
   "source": [
    "for i in range(1,50):\n",
    "   if i%3==0 and i%5==0:\n",
    "      print(f\"{i}'FizzBuzz'\")\n",
    "   elif i%3==0:\n",
    "      print(f'{i}\"Fizz\"')\n",
    "   elif i%5==0:\n",
    "      print(f'{i}\"buzz\"')\n"
   ]
  },
  {
   "cell_type": "code",
   "execution_count": 134,
   "id": "63d03cb4",
   "metadata": {},
   "outputs": [
    {
     "name": "stdout",
     "output_type": "stream",
     "text": [
      "1 x 1=1\n",
      "1 x 2=2\n",
      "1 x 3=3\n",
      "1 x 4=4\n",
      "1 x 5=5\n",
      "1 x 6=6\n",
      "1 x 7=7\n",
      "1 x 8=8\n",
      "1 x 9=9\n",
      "1 x 10=10\n",
      "\n",
      "2 x 1=2\n",
      "2 x 2=4\n",
      "2 x 3=6\n",
      "2 x 4=8\n",
      "2 x 5=10\n",
      "2 x 6=12\n",
      "2 x 7=14\n",
      "2 x 8=16\n",
      "2 x 9=18\n",
      "2 x 10=20\n",
      "\n",
      "3 x 1=3\n",
      "3 x 2=6\n",
      "3 x 3=9\n",
      "3 x 4=12\n",
      "3 x 5=15\n",
      "3 x 6=18\n",
      "3 x 7=21\n",
      "3 x 8=24\n",
      "3 x 9=27\n",
      "3 x 10=30\n",
      "\n",
      "4 x 1=4\n",
      "4 x 2=8\n",
      "4 x 3=12\n",
      "4 x 4=16\n",
      "4 x 5=20\n",
      "4 x 6=24\n",
      "4 x 7=28\n",
      "4 x 8=32\n",
      "4 x 9=36\n",
      "4 x 10=40\n",
      "\n",
      "5 x 1=5\n",
      "5 x 2=10\n",
      "5 x 3=15\n",
      "5 x 4=20\n",
      "5 x 5=25\n",
      "5 x 6=30\n",
      "5 x 7=35\n",
      "5 x 8=40\n",
      "5 x 9=45\n",
      "5 x 10=50\n",
      "\n",
      "6 x 1=6\n",
      "6 x 2=12\n",
      "6 x 3=18\n",
      "6 x 4=24\n",
      "6 x 5=30\n",
      "6 x 6=36\n",
      "6 x 7=42\n",
      "6 x 8=48\n",
      "6 x 9=54\n",
      "6 x 10=60\n",
      "\n",
      "7 x 1=7\n",
      "7 x 2=14\n",
      "7 x 3=21\n",
      "7 x 4=28\n",
      "7 x 5=35\n",
      "7 x 6=42\n",
      "7 x 7=49\n",
      "7 x 8=56\n",
      "7 x 9=63\n",
      "7 x 10=70\n",
      "\n",
      "8 x 1=8\n",
      "8 x 2=16\n",
      "8 x 3=24\n",
      "8 x 4=32\n",
      "8 x 5=40\n",
      "8 x 6=48\n",
      "8 x 7=56\n",
      "8 x 8=64\n",
      "8 x 9=72\n",
      "8 x 10=80\n",
      "\n",
      "9 x 1=9\n",
      "9 x 2=18\n",
      "9 x 3=27\n",
      "9 x 4=36\n",
      "9 x 5=45\n",
      "9 x 6=54\n",
      "9 x 7=63\n",
      "9 x 8=72\n",
      "9 x 9=81\n",
      "9 x 10=90\n",
      "\n",
      "10 x 1=10\n",
      "10 x 2=20\n",
      "10 x 3=30\n",
      "10 x 4=40\n",
      "10 x 5=50\n",
      "10 x 6=60\n",
      "10 x 7=70\n",
      "10 x 8=80\n",
      "10 x 9=90\n",
      "10 x 10=100\n",
      "\n"
     ]
    }
   ],
   "source": [
    "end=\"\"\n",
    "for i in range(1,11):\n",
    "    for j in range(1,11):\n",
    "        v=i*j\n",
    "        print(f\"{i} x {j}={v}\")\n",
    "    print()\n",
    "    "
   ]
  },
  {
   "cell_type": "code",
   "execution_count": null,
   "id": "2eb29012",
   "metadata": {},
   "outputs": [
    {
     "ename": "TypeError",
     "evalue": "argument of type 'int' is not iterable",
     "output_type": "error",
     "traceback": [
      "\u001b[1;31m---------------------------------------------------------------------------\u001b[0m",
      "\u001b[1;31mTypeError\u001b[0m                                 Traceback (most recent call last)",
      "Cell \u001b[1;32mIn[54], line 3\u001b[0m\n\u001b[0;32m      1\u001b[0m student\u001b[38;5;241m=\u001b[39m{\u001b[38;5;124m\"\u001b[39m\u001b[38;5;124mAma\u001b[39m\u001b[38;5;124m\"\u001b[39m:\u001b[38;5;241m40\u001b[39m,\u001b[38;5;124m\"\u001b[39m\u001b[38;5;124mYaw\u001b[39m\u001b[38;5;124m\"\u001b[39m:\u001b[38;5;241m50\u001b[39m,\u001b[38;5;124m\"\u001b[39m\u001b[38;5;124mAfei\u001b[39m\u001b[38;5;124m\"\u001b[39m:\u001b[38;5;241m70\u001b[39m,\u001b[38;5;124m\"\u001b[39m\u001b[38;5;124mKofi\u001b[39m\u001b[38;5;124m\"\u001b[39m:\u001b[38;5;241m90\u001b[39m}\n\u001b[0;32m      2\u001b[0m \u001b[38;5;28;01mfor\u001b[39;00m i,j \u001b[38;5;129;01min\u001b[39;00m student\u001b[38;5;241m.\u001b[39mitems():\n\u001b[1;32m----> 3\u001b[0m     \u001b[38;5;28;01mif\u001b[39;00m v \u001b[38;5;129;01min\u001b[39;00m j\u001b[38;5;241m>\u001b[39m\u001b[38;5;241m=\u001b[39m\u001b[38;5;241m50\u001b[39m:\n\u001b[0;32m      4\u001b[0m         \u001b[38;5;28mprint\u001b[39m(v)\n",
      "\u001b[1;31mTypeError\u001b[0m: argument of type 'int' is not iterable"
     ]
    }
   ],
   "source": [
    "student={\"Ama\":40,\"Yaw\":50,\"Afei\":70,\"Kofi\":90}\n",
    "for i,j in student.items():\n",
    "    if j>=50:\n",
    "        \n",
    "         print(v)"
   ]
  },
  {
   "cell_type": "markdown",
   "id": "b8ccfd3d",
   "metadata": {},
   "source": [
    "Loop through a list of student scores and count how many passed (score ≥ 50)."
   ]
  },
  {
   "cell_type": "code",
   "execution_count": 89,
   "id": "c976a04e",
   "metadata": {},
   "outputs": [
    {
     "name": "stdout",
     "output_type": "stream",
     "text": [
      "[80, 50, 80, 99, 85]\n",
      "total passed:5\n"
     ]
    }
   ],
   "source": [
    "scores=[26,80,50,80,99,85,30]\n",
    "total_passed=[]\n",
    "for i in scores:\n",
    "    if i>=50:\n",
    "        total_passed.append(i)\n",
    "print(total_passed)\n",
    "print(f'total passed:{len(total_passed)}')\n",
    "        \n",
    "\n",
    "        "
   ]
  },
  {
   "cell_type": "markdown",
   "id": "7d93bb66",
   "metadata": {},
   "source": [
    "Given a list of names, print only those starting with a vowel."
   ]
  },
  {
   "cell_type": "code",
   "execution_count": 120,
   "id": "67d51554",
   "metadata": {},
   "outputs": [
    {
     "name": "stdout",
     "output_type": "stream",
     "text": [
      "Ama\n",
      "Afia\n"
     ]
    }
   ],
   "source": [
    "lis=[\"Ama\",\"Yaw\",\"Kwadwo\",\"Tetteh\",\"Afia\"]\n",
    "v= (\"a\",\"i\",\"e\",\"o\",\"u\")\n",
    "for i in lis:\n",
    "    if i[0].lower() in v:\n",
    "        print(i)\n"
   ]
  },
  {
   "cell_type": "markdown",
   "id": "d85e28d9",
   "metadata": {},
   "source": [
    "5.\tLoop through a range of years and print leap years.\n"
   ]
  },
  {
   "cell_type": "code",
   "execution_count": 141,
   "id": "ee79a652",
   "metadata": {},
   "outputs": [
    {
     "name": "stdout",
     "output_type": "stream",
     "text": [
      "2016\n",
      "2020\n",
      "2024\n",
      "2028\n",
      "2032\n"
     ]
    }
   ],
   "source": [
    "for i in range(2016,2035):\n",
    "    if i%4==0:\n",
    "        print(i)"
   ]
  },
  {
   "cell_type": "markdown",
   "id": "e590a12d",
   "metadata": {},
   "source": [
    "6.\tUse a loop to remove duplicates from a list manually (no set or library functions)"
   ]
  },
  {
   "cell_type": "code",
   "execution_count": 7,
   "id": "58177520",
   "metadata": {},
   "outputs": [
    {
     "name": "stdout",
     "output_type": "stream",
     "text": [
      "[12, 33, 55, 67, 88, 77]\n"
     ]
    }
   ],
   "source": [
    "list=[12,12,12,33,55,67,55,88,77]\n",
    "non_dupli=[ ]\n",
    "for i in list:\n",
    "    if i not in non_dupli:\n",
    "        non_dupli.append(i)\n",
    "print(non_dupli)\n",
    "    \n",
    "\n"
   ]
  },
  {
   "cell_type": "markdown",
   "id": "05ee2e54",
   "metadata": {},
   "source": [
    "1.\tLoop through a dictionary of student names and marks, then sort and print the top three performers.\n"
   ]
  },
  {
   "cell_type": "code",
   "execution_count": 2,
   "id": "198c46e9",
   "metadata": {},
   "outputs": [
    {
     "name": "stdout",
     "output_type": "stream",
     "text": [
      "Kofi:23\n"
     ]
    },
    {
     "ename": "TypeError",
     "evalue": "'NoneType' object is not iterable",
     "output_type": "error",
     "traceback": [
      "\u001b[1;31m---------------------------------------------------------------------------\u001b[0m",
      "\u001b[1;31mTypeError\u001b[0m                                 Traceback (most recent call last)",
      "Cell \u001b[1;32mIn[2], line 6\u001b[0m\n\u001b[0;32m      4\u001b[0m \u001b[38;5;28;01mfor\u001b[39;00m i,j \u001b[38;5;129;01min\u001b[39;00m nb\u001b[38;5;241m.\u001b[39mitems():\n\u001b[0;32m      5\u001b[0m         g\u001b[38;5;241m=\u001b[39m\u001b[38;5;28mprint\u001b[39m(\u001b[38;5;124mf\u001b[39m\u001b[38;5;124m'\u001b[39m\u001b[38;5;132;01m{\u001b[39;00mi\u001b[38;5;132;01m}\u001b[39;00m\u001b[38;5;124m:\u001b[39m\u001b[38;5;132;01m{\u001b[39;00mj\u001b[38;5;132;01m}\u001b[39;00m\u001b[38;5;124m'\u001b[39m)\n\u001b[1;32m----> 6\u001b[0m         \u001b[38;5;28msorted\u001b[39m(g)\n",
      "\u001b[1;31mTypeError\u001b[0m: 'NoneType' object is not iterable"
     ]
    }
   ],
   "source": [
    "nb={\"Kofi\":23,\"Ama\":67,\"yaw\":80,\"Afia\":90}\n",
    "g=[]\n",
    "\n",
    "for i,j in nb.items():\n",
    "        g=print(f'{i}:{j}')\n",
    "        sorted(g)\n",
    "   "
   ]
  },
  {
   "cell_type": "code",
   "execution_count": null,
   "id": "b40d9004",
   "metadata": {},
   "outputs": [],
   "source": [
    "lisa=[12, \"hello\", 3.4, True, \"2024\"]\n",
    "for i in lisa:\n",
    "    if i/2=2:"
   ]
  }
 ],
 "metadata": {
  "kernelspec": {
   "display_name": "base",
   "language": "python",
   "name": "python3"
  },
  "language_info": {
   "codemirror_mode": {
    "name": "ipython",
    "version": 3
   },
   "file_extension": ".py",
   "mimetype": "text/x-python",
   "name": "python",
   "nbconvert_exporter": "python",
   "pygments_lexer": "ipython3",
   "version": "3.12.7"
  }
 },
 "nbformat": 4,
 "nbformat_minor": 5
}
